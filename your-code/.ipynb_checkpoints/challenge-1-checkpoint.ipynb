{
 "cells": [
  {
   "cell_type": "code",
   "execution_count": 5,
   "metadata": {},
   "outputs": [],
   "source": [
    "def calculator():\n",
    "      \n",
    "    print('Welcome to this calculator! \\n It can add, subtract, multiply and divide \\n')\n",
    "    first_number = int(input('Choose your first number (just integers): '))\n",
    "    operation = input('Which operation do you want to do? \\n (+, -, *, / ) ')\n",
    "    second_number = int(input('Choose your second number (just integers): '))\n",
    "    if (first_number >= 0) & (second_number >= 0):\n",
    "        if operation == '+':\n",
    "            print('The result is: ', first_number + second_number)\n",
    "        elif operation == '-':\n",
    "            print('The result is: ', first_number - second_number)\n",
    "        elif operation == '*':\n",
    "            print('The result is: ', first_number * second_number) \n",
    "        elif operation == '/':\n",
    "            if second_number > 0:\n",
    "                print('The result is: ', first_number / second_number)\n",
    "            else:\n",
    "                print('Divide any number between 0 is not posible. \\n Try again.')\n",
    "    else:\n",
    "        print('That is not an integer. Please just add integers.')\n",
    "        return calculator()\n",
    "    \n",
    "    cont_using = input('Do you want to continue using the calculator? \\n (yes or no) ')\n",
    "    if cont_using == 'yes':\n",
    "        return calculator()\n",
    "    elif cont_using == 'no':\n",
    "        print('Goodbye.') "
   ]
  },
  {
   "cell_type": "code",
   "execution_count": null,
   "metadata": {
    "scrolled": false
   },
   "outputs": [
    {
     "name": "stdout",
     "output_type": "stream",
     "text": [
      "Welcome to this calculator! \n",
      " It can add, subtract, multiply and divide \n",
      "\n"
     ]
    }
   ],
   "source": [
    "calculator()"
   ]
  }
 ],
 "metadata": {
  "kernelspec": {
   "display_name": "Python 3",
   "language": "python",
   "name": "python3"
  },
  "language_info": {
   "codemirror_mode": {
    "name": "ipython",
    "version": 3
   },
   "file_extension": ".py",
   "mimetype": "text/x-python",
   "name": "python",
   "nbconvert_exporter": "python",
   "pygments_lexer": "ipython3",
   "version": "3.7.3"
  }
 },
 "nbformat": 4,
 "nbformat_minor": 2
}
